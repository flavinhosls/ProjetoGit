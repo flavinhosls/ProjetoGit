{
  "nbformat": 4,
  "nbformat_minor": 0,
  "metadata": {
    "colab": {
      "name": "Untitled7.ipynb",
      "provenance": [],
      "authorship_tag": "ABX9TyP5h671mRSu4p/xG6COFdRJ",
      "include_colab_link": true
    },
    "kernelspec": {
      "name": "python3",
      "display_name": "Python 3"
    },
    "language_info": {
      "name": "python"
    }
  },
  "cells": [
    {
      "cell_type": "markdown",
      "metadata": {
        "id": "view-in-github",
        "colab_type": "text"
      },
      "source": [
        "<a href=\"https://colab.research.google.com/github/flavinhosls/ProjetoGit/blob/main/testa%20inteiro.ipynb\" target=\"_parent\"><img src=\"https://colab.research.google.com/assets/colab-badge.svg\" alt=\"Open In Colab\"/></a>"
      ]
    },
    {
      "cell_type": "code",
      "execution_count": 5,
      "metadata": {
        "colab": {
          "base_uri": "https://localhost:8080/"
        },
        "id": "d1qMnx0n6-_X",
        "outputId": "e6505052-f59d-4b59-8a14-364be98393c0"
      },
      "outputs": [
        {
          "output_type": "stream",
          "name": "stdout",
          "text": [
            "Digite um número inteiro: u\n",
            "Digite apenas número inteiro!\n",
            "Digite um número inteiro: j\n",
            "Digite apenas número inteiro!\n",
            "Digite um número inteiro: 8\n",
            "OK, você digitou o número 8\n",
            "<class 'str'>\n"
          ]
        }
      ],
      "source": [
        "def leiaint(numero):\n",
        "    while True: \n",
        "        num = input('Digite um número inteiro: ')   \n",
        "        try: \n",
        "            int(num)\n",
        "            print(f'OK, você digitou o número {num}')\n",
        "            print(type(num))\n",
        "            break\n",
        "        except:\n",
        "            print('Digite apenas número inteiro!')\n",
        "            continue  \n",
        "            \n",
        "\n",
        "num = 0\n",
        "leiaint(num)\n"
      ]
    }
  ]
}