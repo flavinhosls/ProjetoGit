{
  "nbformat": 4,
  "nbformat_minor": 0,
  "metadata": {
    "colab": {
      "name": "Untitled5.ipynb",
      "provenance": [],
      "authorship_tag": "ABX9TyNpvNqbiJ/cYAxVNPcNnukM"
    },
    "kernelspec": {
      "name": "python3",
      "display_name": "Python 3"
    },
    "language_info": {
      "name": "python"
    }
  },
  "cells": [
    {
      "cell_type": "code",
      "execution_count": 9,
      "metadata": {
        "colab": {
          "base_uri": "https://localhost:8080/"
        },
        "id": "hnqgE1T5t2fj",
        "outputId": "9d15789e-e0de-41c1-fce5-9758bfd14e0c"
      },
      "outputs": [
        {
          "output_type": "stream",
          "name": "stdout",
          "text": [
            "Digite um número a ser calculado: 7\n",
            "O fatorial de 7 é 5040\n"
          ]
        }
      ],
      "source": [
        "def fatorial(numero):\n",
        "  b = 0\n",
        "  for a in range(num - 1, 0, -1):\n",
        "    if b == 0:\n",
        "      b = a * num\n",
        "      \n",
        "    else:\n",
        "      b = b * a\n",
        "      \n",
        "  return b\n",
        "\n",
        "\n",
        "num = int(input('Digite um número a ser calculado: '))\n",
        "e = fatorial(num)\n",
        "print(f'O fatorial de {num} é {e}')\n"
      ]
    }
  ]
}