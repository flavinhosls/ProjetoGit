{
  "nbformat": 4,
  "nbformat_minor": 0,
  "metadata": {
    "colab": {
      "name": "Untitled6.ipynb",
      "provenance": [],
      "authorship_tag": "ABX9TyPMDZbqRRRSQ2pDpFMqbaFb"
    },
    "kernelspec": {
      "name": "python3",
      "display_name": "Python 3"
    },
    "language_info": {
      "name": "python"
    }
  },
  "cells": [
    {
      "cell_type": "code",
      "execution_count": 17,
      "metadata": {
        "colab": {
          "base_uri": "https://localhost:8080/"
        },
        "id": "LBfFPT_kXm3L",
        "outputId": "c5999542-e76b-4050-f646-6f7c1cf35fbf"
      },
      "outputs": [
        {
          "output_type": "stream",
          "name": "stdout",
          "text": [
            "\u001b[0;30;44m~~~~~~~~~~~~~~~~~~~~~~~~~~~\n",
            "  SISTEMA DE AJUDA PYHELP\n",
            "~~~~~~~~~~~~~~~~~~~~~~~~~~~\n",
            "\u001b[mFunção ou Biblioteca > len\n",
            "\u001b[0;30;44m~~~~~~~~~~~~~~~~~~~~~~~~~~~~~~~~~~~~~~~~\n",
            "  Acessando o manual do comando 'len '\n",
            "~~~~~~~~~~~~~~~~~~~~~~~~~~~~~~~~~~~~~~~~\n",
            "\u001b[m\u001b[;7mHelp on built-in function len in module builtins:\n",
            "\n",
            "len(obj, /)\n",
            "    Return the number of items in a container.\n",
            "\n",
            "\u001b[m\u001b[0;30;44m~~~~~~~~~~~~~~~~~~~~~~~~~~~\n",
            "  SISTEMA DE AJUDA PYHELP\n",
            "~~~~~~~~~~~~~~~~~~~~~~~~~~~\n",
            "\u001b[mFunção ou Biblioteca > fim\n",
            "\u001b[0;30;41m~~~~~~~~~~~~~\n",
            "  ATÈ LOGO!\n",
            "~~~~~~~~~~~~~\n",
            "\u001b[m"
          ]
        }
      ],
      "source": [
        "c = ('\\033[m', # 0 - sem cores\n",
        "     '\\033[0;30;41m', # 1 vermelho\n",
        "     '\\033[0;30;42m', # 2 verde\n",
        "     '\\033[0;30;43m', # 3 amrelo\n",
        "     '\\033[0;30;44m', # 4 azul\n",
        "     '\\033[0;30;45m', # 5 roxo\n",
        "     '\\033[;7m', # 6 branco\n",
        ")\n",
        "\n",
        "def ajuda(com):\n",
        "  título(f'Acessando o manual do comando \\'{com} \\'', 4)\n",
        "  print(c[6], end='')\n",
        "  help(com)\n",
        "  print(c[0], end='')\n",
        "\n",
        "def título(msg, cor=0):\n",
        "  tam = len(msg) + 4\n",
        "  print(c[cor], end='')\n",
        "  print('~' * tam)\n",
        "  print(f'  {msg}')\n",
        "  print('~' * tam)\n",
        "  print(c[0], end='')\n",
        "\n",
        "#Programa principal\n",
        "comando = ''\n",
        "while True:\n",
        "  título('SISTEMA DE AJUDA PYHELP', 4)\n",
        "  comando = str(input('Função ou Biblioteca > '))\n",
        "  if comando.upper() == 'FIM':\n",
        "    break\n",
        "  else:\n",
        "    ajuda(comando)\n",
        "título('ATÈ LOGO!', 1)"
      ]
    }
  ]
}