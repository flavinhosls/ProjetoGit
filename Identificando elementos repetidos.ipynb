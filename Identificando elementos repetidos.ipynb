{
  "nbformat": 4,
  "nbformat_minor": 0,
  "metadata": {
    "colab": {
      "name": "Untitled9.ipynb",
      "provenance": [],
      "authorship_tag": "ABX9TyPG90o5B6P3pQ1duGwoq/H1",
      "include_colab_link": true
    },
    "kernelspec": {
      "name": "python3",
      "display_name": "Python 3"
    },
    "language_info": {
      "name": "python"
    }
  },
  "cells": [
    {
      "cell_type": "markdown",
      "metadata": {
        "id": "view-in-github",
        "colab_type": "text"
      },
      "source": [
        "<a href=\"https://colab.research.google.com/github/flavinhosls/ProjetoGit/blob/main/Identificando%20elementos%20repetidos.ipynb\" target=\"_parent\"><img src=\"https://colab.research.google.com/assets/colab-badge.svg\" alt=\"Open In Colab\"/></a>"
      ]
    },
    {
      "cell_type": "code",
      "execution_count": 2,
      "metadata": {
        "colab": {
          "base_uri": "https://localhost:8080/"
        },
        "id": "1wWdMyiJhLaT",
        "outputId": "10215dcf-a677-4e7e-c207-ea3df30df979"
      },
      "outputs": [
        {
          "output_type": "stream",
          "name": "stdout",
          "text": [
            "=-=-=-=-=-=-=-=-=-=-=-=-=-=-=-=-=-=-=-=-=-=-=-=-=-=-=-=-=-=-=-=-=-=-=-=-=-=-=-=-=-\n",
            "                   Os elementos repetidos estão em vermelho.                    \n",
            "=-=-=-=-=-=-=-=-=-=-=-=-=-=-=-=-=-=-=-=-=-=-=-=-=-=-=-=-=-=-=-=-=-=-=-=-=-=-=-=-=-\n",
            "[\u001b[34m1\u001b[m,\u001b[34m2\u001b[m,\u001b[34m3\u001b[m,\u001b[34m4\u001b[m,\u001b[34m5\u001b[m,\u001b[34m6\u001b[m,\u001b[34m7\u001b[m,\u001b[34m8\u001b[m,\u001b[34m9\u001b[m,\u001b[34m10\u001b[m]\n",
            "[\u001b[34m9\u001b[m,\u001b[34m2\u001b[m,\u001b[34m8\u001b[m,\u001b[34m3\u001b[m,\u001b[34m4\u001b[m,\u001b[34m7\u001b[m,\u001b[31m9\u001b[m,\u001b[34m1\u001b[m,\u001b[31m8\u001b[m,\u001b[31m4\u001b[m]\n",
            "[\u001b[34m4\u001b[m,\u001b[34m1\u001b[m,\u001b[31m1\u001b[m,\u001b[34m6\u001b[m,\u001b[34m9\u001b[m,\u001b[34m0\u001b[m,\u001b[34m3\u001b[m,\u001b[31m4\u001b[m,\u001b[34m2\u001b[m,\u001b[34m5\u001b[m]\n",
            "[\u001b[34m5\u001b[m,\u001b[34m4\u001b[m,\u001b[34m6\u001b[m,\u001b[34m2\u001b[m,\u001b[31m2\u001b[m,\u001b[34m8\u001b[m,\u001b[31m4\u001b[m,\u001b[34m9\u001b[m,\u001b[31m4\u001b[m,\u001b[31m8\u001b[m]\n",
            "[\u001b[34m7\u001b[m,\u001b[34m8\u001b[m,\u001b[34m6\u001b[m,\u001b[34m4\u001b[m,\u001b[34m0\u001b[m,\u001b[31m8\u001b[m,\u001b[34m1\u001b[m,\u001b[34m2\u001b[m,\u001b[34m3\u001b[m,\u001b[34m5\u001b[m]\n",
            "[\u001b[34m8\u001b[m,\u001b[34m9\u001b[m,\u001b[34m5\u001b[m,\u001b[34m0\u001b[m,\u001b[34m3\u001b[m,\u001b[34m1\u001b[m,\u001b[31m1\u001b[m,\u001b[34m4\u001b[m,\u001b[34m6\u001b[m,\u001b[31m8\u001b[m]\n"
          ]
        }
      ],
      "source": [
        "lista = [\n",
        "    [1, 2, 3, 4, 5, 6, 7, 8, 9, 10],\n",
        "    [9, 2, 8, 3, 4, 7, 9, 1, 8, 4],\n",
        "    [4, 1, 1, 6, 9, 0, 3, 4, 2, 5],\n",
        "    [5, 4, 6, 2, 2, 8, 4, 9, 4, 8],\n",
        "    [7, 8, 6, 4, 0, 8, 1, 2, 3, 5],\n",
        "    [8, 9, 5, 0, 3, 1, 1, 4, 6, 8]\n",
        "]\n",
        "a = 'Os elementos repetidos estão em vermelho.'\n",
        "print('=-' * len(a))\n",
        "print(a.center(80))\n",
        "print('=-' * len(a))\n",
        "existe = []\n",
        "def sublistas(listaq):\n",
        "    existe.clear()\n",
        "    for v, elemento in enumerate(listaq):\n",
        "        if len(existe) == 0:\n",
        "            print('[', end='')\n",
        "            existe.append(8676643433145569869)\n",
        "\n",
        "        if elemento in existe:\n",
        "            if v != 9:\n",
        "                print(f'\\033[31m{elemento}\\033[m', end=',')\n",
        "            else:\n",
        "                print(f'\\033[31m{elemento}\\033[m', end='')\n",
        "        else:\n",
        "            if len(existe) > 0:\n",
        "                existe.append(elemento)\n",
        "                if v != 9:\n",
        "                    print(f'\\033[34m{elemento}\\033[m', end=',')\n",
        "                else:\n",
        "                    print(f'\\033[34m{elemento}\\033[m', end='')\n",
        "        if v == 9:\n",
        "            print(']')\n",
        "\n",
        "for s in range(len(lista)):\n",
        "    sublistas(lista[s])\n",
        "\n"
      ]
    }
  ]
}